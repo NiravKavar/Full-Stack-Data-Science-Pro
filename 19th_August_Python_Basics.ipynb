{
  "nbformat": 4,
  "nbformat_minor": 0,
  "metadata": {
    "colab": {
      "provenance": []
    },
    "kernelspec": {
      "name": "python3",
      "display_name": "Python 3"
    },
    "language_info": {
      "name": "python"
    }
  },
  "cells": [
    {
      "cell_type": "markdown",
      "source": [
        "# **Assignment 1 - Python Basics**\n",
        "\n",
        "\n",
        "\n",
        "\n",
        "\n",
        "\n",
        "\n",
        "\n"
      ],
      "metadata": {
        "id": "bTLtpUC5oWiD"
      }
    },
    {
      "cell_type": "markdown",
      "source": [
        "**TOPIC: Python Basics Variable**"
      ],
      "metadata": {
        "id": "LxMhPDjDpNWi"
      }
    },
    {
      "cell_type": "markdown",
      "source": [
        "1. Declare two variables, `x` and `y`, and assign them integer values. Swap the\n",
        "values of these variables without using any temporary variable."
      ],
      "metadata": {
        "id": "Cb9FLt3QqU2W"
      }
    },
    {
      "cell_type": "code",
      "source": [
        "x=5\n",
        "y=7\n",
        "x,y"
      ],
      "metadata": {
        "colab": {
          "base_uri": "https://localhost:8080/"
        },
        "id": "IYi-6FRzqXb2",
        "outputId": "ac07cd52-17b1-4877-f182-cd8f97b65477"
      },
      "execution_count": 12,
      "outputs": [
        {
          "output_type": "execute_result",
          "data": {
            "text/plain": [
              "(5, 7)"
            ]
          },
          "metadata": {},
          "execution_count": 12
        }
      ]
    },
    {
      "cell_type": "code",
      "source": [
        "# first method\n",
        "x,y=y,x\n",
        "\n",
        "# second method\n",
        "x=x+y"
      ],
      "metadata": {
        "id": "k5CZV96aqIHK"
      },
      "execution_count": 46,
      "outputs": []
    },
    {
      "cell_type": "code",
      "source": [
        "x"
      ],
      "metadata": {
        "colab": {
          "base_uri": "https://localhost:8080/"
        },
        "id": "O8mqUy8iq6EK",
        "outputId": "e3875407-9387-4cf8-bc16-87b23ce04885"
      },
      "execution_count": 47,
      "outputs": [
        {
          "output_type": "execute_result",
          "data": {
            "text/plain": [
              "12"
            ]
          },
          "metadata": {},
          "execution_count": 47
        }
      ]
    },
    {
      "cell_type": "code",
      "source": [
        "y=x-y"
      ],
      "metadata": {
        "id": "NiQRk_AOq6wp"
      },
      "execution_count": 48,
      "outputs": []
    },
    {
      "cell_type": "code",
      "source": [
        "y"
      ],
      "metadata": {
        "colab": {
          "base_uri": "https://localhost:8080/"
        },
        "id": "u_b21rQUrj-5",
        "outputId": "02157a0c-fd06-49f4-be9f-5217cb831553"
      },
      "execution_count": 49,
      "outputs": [
        {
          "output_type": "execute_result",
          "data": {
            "text/plain": [
              "5"
            ]
          },
          "metadata": {},
          "execution_count": 49
        }
      ]
    },
    {
      "cell_type": "code",
      "source": [
        "x=x-y"
      ],
      "metadata": {
        "id": "JAVVCK7wrlER"
      },
      "execution_count": 50,
      "outputs": []
    },
    {
      "cell_type": "code",
      "source": [
        "x"
      ],
      "metadata": {
        "colab": {
          "base_uri": "https://localhost:8080/"
        },
        "id": "pVRTARdWrxnp",
        "outputId": "4042dd8d-adac-4cf8-a087-369446757c6c"
      },
      "execution_count": 51,
      "outputs": [
        {
          "output_type": "execute_result",
          "data": {
            "text/plain": [
              "7"
            ]
          },
          "metadata": {},
          "execution_count": 51
        }
      ]
    },
    {
      "cell_type": "code",
      "source": [
        "x,y"
      ],
      "metadata": {
        "colab": {
          "base_uri": "https://localhost:8080/"
        },
        "id": "bOywHOTNryfR",
        "outputId": "022cfbbe-23f0-4fdb-b9fe-f85099530af5"
      },
      "execution_count": 52,
      "outputs": [
        {
          "output_type": "execute_result",
          "data": {
            "text/plain": [
              "(7, 5)"
            ]
          },
          "metadata": {},
          "execution_count": 52
        }
      ]
    },
    {
      "cell_type": "markdown",
      "source": [
        "2. Create a program that calculates the area of a rectangle. Take the length and\n",
        "width as inputs from the user and store them in variables. Calculate and\n",
        "display the area."
      ],
      "metadata": {
        "id": "5BjMnPw-snFx"
      }
    },
    {
      "cell_type": "code",
      "source": [
        "# Area of a rectangle = length * width"
      ],
      "metadata": {
        "id": "OtO9pwSwsrTi"
      },
      "execution_count": 22,
      "outputs": []
    },
    {
      "cell_type": "code",
      "source": [
        "length = int(input('enter the length of rectangle '))\n",
        "width = int(input('enter the width of rectangle '))\n",
        "area = length*width\n",
        "print('Area of the rectangle is :',area)"
      ],
      "metadata": {
        "colab": {
          "base_uri": "https://localhost:8080/"
        },
        "id": "ALdSkwqttXrR",
        "outputId": "8cd3f59a-7ff3-46a2-ca3d-5de5f35740c2"
      },
      "execution_count": 31,
      "outputs": [
        {
          "output_type": "stream",
          "name": "stdout",
          "text": [
            "enter the length of rectangle 50\n",
            "enter the width of rectangle 30\n",
            "Area of the rectangle is : 1500\n"
          ]
        }
      ]
    },
    {
      "cell_type": "markdown",
      "source": [
        "3. Write a Python program that converts temperatures from Celsius to\n",
        "Fahrenheit. Take the temperature in Celsius as input, store it in a variable,\n",
        "convert it to Fahrenheit, and display the result."
      ],
      "metadata": {
        "id": "mDtsJlztu15h"
      }
    },
    {
      "cell_type": "code",
      "source": [
        "# fahrenheit = (celsius * 9/5) + 32"
      ],
      "metadata": {
        "id": "814A1xrHu6Sx"
      },
      "execution_count": 32,
      "outputs": []
    },
    {
      "cell_type": "code",
      "source": [
        "celsius_temperature = float(input('enter the temperature in celsius '))\n",
        "fahrenheit_temperature = (celsius_temperature * 9/5)+32\n",
        "print('Temperature in fahrenheit is :', fahrenheit_temperature)\n"
      ],
      "metadata": {
        "colab": {
          "base_uri": "https://localhost:8080/"
        },
        "id": "bhubk1RSy89e",
        "outputId": "b2457149-f3b4-4119-c2c0-f00b623e827d"
      },
      "execution_count": 33,
      "outputs": [
        {
          "output_type": "stream",
          "name": "stdout",
          "text": [
            "enter the temperature in celsius 23.7\n",
            "Temperature in fahrenheit is : 74.66\n"
          ]
        }
      ]
    },
    {
      "cell_type": "markdown",
      "source": [
        "**TOPIC: String Based Questions**"
      ],
      "metadata": {
        "id": "Z3LmyTXd2Gke"
      }
    },
    {
      "cell_type": "markdown",
      "source": [
        "1. Write a Python program that takes a string as input and prints the length of\n",
        "the string."
      ],
      "metadata": {
        "id": "7PtPZK3b2uRe"
      }
    },
    {
      "cell_type": "code",
      "source": [
        "s = input('enter the word : ')\n",
        "s_length=len(s)\n",
        "print(f'The length of {s} is : {s_length}')"
      ],
      "metadata": {
        "colab": {
          "base_uri": "https://localhost:8080/"
        },
        "id": "8a2usKfk2wdd",
        "outputId": "bfac1f57-f94c-480c-c5a0-aaf219791c56"
      },
      "execution_count": 37,
      "outputs": [
        {
          "output_type": "stream",
          "name": "stdout",
          "text": [
            "enter the word : kavar\n",
            "The length of kavar is : 5\n"
          ]
        }
      ]
    },
    {
      "cell_type": "markdown",
      "source": [
        "2. Create a program that takes a sentence from the user and counts the number\n",
        "of vowels (a, e, i, o, u) in the string."
      ],
      "metadata": {
        "id": "FB0Xg3hK4eEl"
      }
    },
    {
      "cell_type": "code",
      "source": [
        "# function for count vowels\n",
        "def count_vowels(sentence):\n",
        "  vowels='aeiou'\n",
        "  count=0\n",
        "  for char in sentence:\n",
        "    if char.lower() in vowels:\n",
        "      count=count+1\n",
        "  return count\n",
        "\n",
        "sentence= input('Enter the sentence : ')\n",
        "v_count= count_vowels(sentence)\n",
        "print(f'Number of vowels is : {v_count}')"
      ],
      "metadata": {
        "colab": {
          "base_uri": "https://localhost:8080/"
        },
        "id": "2XYHQm0o4fel",
        "outputId": "7c5f84ee-db59-48fe-91e5-a9113c7f1867"
      },
      "execution_count": 42,
      "outputs": [
        {
          "output_type": "stream",
          "name": "stdout",
          "text": [
            "Enter the sentence : hello world\n",
            "Number of vowels is : 3\n"
          ]
        }
      ]
    },
    {
      "cell_type": "markdown",
      "source": [
        "3. Given a string, reverse the order of characters using string slicing and print\n",
        "the reversed string."
      ],
      "metadata": {
        "id": "dfX1Ip4T720c"
      }
    },
    {
      "cell_type": "code",
      "source": [
        "# for reverse string [::-1]\n",
        "str1 = 'Gujarat'\n",
        "reverse_str1 = str1[::-1]\n",
        "print(f'Reverse string is {reverse_str1}')"
      ],
      "metadata": {
        "colab": {
          "base_uri": "https://localhost:8080/"
        },
        "id": "FC1O8dhM73tT",
        "outputId": "ce41513e-14eb-4dfd-b644-33d1e8aac98d"
      },
      "execution_count": 43,
      "outputs": [
        {
          "output_type": "stream",
          "name": "stdout",
          "text": [
            "Reverse string is tarajuG\n"
          ]
        }
      ]
    },
    {
      "cell_type": "markdown",
      "source": [
        "4. Write a program that takes a string as input and checks if it is a palindrome\n",
        "(reads the same forwards and backwards)."
      ],
      "metadata": {
        "id": "dKJLHJjpAt2q"
      }
    },
    {
      "cell_type": "code",
      "source": [
        "string = input('Enter string: ')\n",
        "cleaned_string = string.replace(\" \", \"\").lower()\n",
        "reversed_string = cleaned_string[::-1]\n",
        "if cleaned_string == reversed_string:\n",
        "    print('The string is a palindrome.')\n",
        "else:\n",
        "    print('The string is not a palindrome.')"
      ],
      "metadata": {
        "colab": {
          "base_uri": "https://localhost:8080/"
        },
        "id": "WUHlxbgOAyXC",
        "outputId": "48c0969c-4e5f-46c1-c251-321d628df82f"
      },
      "execution_count": 44,
      "outputs": [
        {
          "output_type": "stream",
          "name": "stdout",
          "text": [
            "Enter string: nirav\n",
            "The string is not a palindrome.\n"
          ]
        }
      ]
    },
    {
      "cell_type": "markdown",
      "source": [
        "5. Create a program that takes a string as input and removes all the spaces from\n",
        "it. Print the modified string without spaces."
      ],
      "metadata": {
        "id": "FTRus7gIB2sJ"
      }
    },
    {
      "cell_type": "code",
      "source": [
        "str2 = input('Enter string')\n",
        "modified_str2 = \"\"\n",
        "for char in str2:\n",
        "    if char != \" \":\n",
        "        modified_str2 += char\n",
        "print(f'String without spaces: {modified_str2}')"
      ],
      "metadata": {
        "colab": {
          "base_uri": "https://localhost:8080/"
        },
        "id": "s7fLmNf_B3jh",
        "outputId": "9041a7dd-71c9-40d1-9d06-38d2d01cc780"
      },
      "execution_count": 45,
      "outputs": [
        {
          "output_type": "stream",
          "name": "stdout",
          "text": [
            "Enter string      helllo    world\n",
            "String without spaces: hellloworld\n"
          ]
        }
      ]
    }
  ]
}